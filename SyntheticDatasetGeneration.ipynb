{
  "cells": [
    {
      "cell_type": "code",
      "execution_count": null,
      "metadata": {
        "id": "Ktti2bvoYrWc"
      },
      "outputs": [],
      "source": [
        "import os\n",
        "\n",
        "# Set the OPENAI_API_KEY environment variable\n",
        "os.environ[\"OPENAI_API_KEY\"] = \"put key here\""
      ]
    },
    {
      "cell_type": "code",
      "execution_count": null,
      "metadata": {
        "id": "UpeXOOlfqZCb"
      },
      "outputs": [],
      "source": [
        "!pip install openai -q"
      ]
    },
    {
      "cell_type": "code",
      "execution_count": null,
      "metadata": {
        "id": "SrdunVxHuQbC"
      },
      "outputs": [],
      "source": [
        "from openai import OpenAI\n",
        "\n",
        "client = OpenAI()\n",
        "\n",
        "completion = client.completions.create(model=\"davinci-002\", prompt=\"Hello world\")\n",
        "chat_completion = client.chat.completions.create(model=\"gpt-3.5-turbo\", messages=[{\"role\": \"user\", \"content\": \"Hello world\"}])"
      ]
    },
    {
      "cell_type": "code",
      "execution_count": null,
      "metadata": {
        "id": "pOLxFHowvQxO"
      },
      "outputs": [],
      "source": [
        "models = client.models.list()\n",
        "has_gpt4 = any(\"gpt-4\" in model.id for model in models)"
      ]
    },
    {
      "cell_type": "code",
      "execution_count": null,
      "metadata": {
        "id": "AX3FWxWSS7Pm"
      },
      "outputs": [],
      "source": [
        "def prompt_model(prompt_list, model=\"gpt-4o\"):\n",
        "  return client.completions.create(model=model, messages=prompt_list)\n",
        "\n",
        "def create_prompt(role, prompt):\n",
        "  return {\"role\" : role, \"content\" : prompt}"
      ]
    },
    {
      "cell_type": "markdown",
      "metadata": {
        "id": "AKPMtZXKWnj9"
      },
      "source": [
        "### Generating Synthetic Data\n",
        "\n",
        "We'll create 100 product/description pairs and then generate marketing emails for each."
      ]
    },
    {
      "cell_type": "code",
      "execution_count": null,
      "metadata": {
        "id": "audN435yYrWd"
      },
      "outputs": [],
      "source": [
        "datagen_prompts = [\n",
        "    {\"role\" : \"system\", \"content\" : \"You are a product innovator. You create new products that people crave.\"},\n",
        "    {\"role\" : \"user\", \"content\" : \"Please generate a list of 10 new products and extremely short descriptions.\"},\n",
        "]"
      ]
    },
    {
      "cell_type": "code",
      "execution_count": null,
      "metadata": {
        "colab": {
          "base_uri": "https://localhost:8080/"
        },
        "id": "VUJPivDkYrWd",
        "outputId": "4410f11d-76c3-4184-8c5e-b55af87cd466"
      },
      "outputs": [
        {
          "name": "stdout",
          "output_type": "stream",
          "text": [
            "Sure, here's a list of 10 new products with extremely short descriptions:\n",
            "\n",
            "1. **SmartPlant**: Self-watering, app-connected plant pot.\n",
            "2. **MoodMask**: Color-changing facemask indicating mood.\n",
            "3. **EchoPen**: Voice-recording and transcribing pen.\n",
            "4. **FitSnack**: Health bars customized to your DNA.\n",
            "5. **AuraShower**: Mood-lighting and aromatherapy shower head.\n",
            "6. **SolarWindow**: Energy-harvesting transparent window film.\n",
            "7. **WrapNapper**: Weighted blanket that doubles as a stylish wrap.\n",
            "8. **FreshPatch**: Odor-neutralizing fridge mat that signals spoilage.\n",
            "9. **ChillSip**: Temperature-controlled smart cup for drinks.\n",
            "10. **ThermSoles**: Self-heating and cooling insoles with app control.\n"
          ]
        }
      ],
      "source": [
        "first_data_gen = prompt_model(datagen_prompts)\n",
        "print(first_data_gen.choices[0].message.content)"
      ]
    },
    {
      "cell_type": "markdown",
      "metadata": {
        "id": "rm2m394F5eRT"
      },
      "source": [
        "Parsing them out into a Python list"
      ]
    },
    {
      "cell_type": "code",
      "execution_count": null,
      "metadata": {
        "colab": {
          "base_uri": "https://localhost:8080/"
        },
        "id": "QRNcGdFf5lYH",
        "outputId": "a60ebf89-4d94-4970-8498-a507b1ad9d49"
      },
      "outputs": [
        {
          "name": "stdout",
          "output_type": "stream",
          "text": [
            "We used 216 tokens\n"
          ]
        }
      ],
      "source": [
        "def retrieve_token_usage(open_ai_response):\n",
        "    return open_ai_response.usage.total_tokens\n",
        "\n",
        "print(f\"We used {retrieve_token_usage(first_data_gen)} tokens\")"
      ]
    },
    {
      "cell_type": "code",
      "execution_count": null,
      "metadata": {
        "id": "p6iTuZzx6fWi"
      },
      "outputs": [],
      "source": [
        "text_response = first_data_gen.choices[0].message.content\n",
        "\n",
        "products_and_descriptions = []\n",
        "for line in text_response.splitlines():\n",
        "  if \".\" in line:\n",
        "    product_descriptions = line.split(\".\")[1]\n",
        "    product_descriptions_split = product_descriptions.split(\":\")\n",
        "    products_and_descriptions.append(\n",
        "        {\n",
        "            \"product\" : product_descriptions_split[0][1:],\n",
        "            \"description\" : \":\".join(product_descriptions_split[1:])[1:]\n",
        "        }\n",
        "    )"
      ]
    },
    {
      "cell_type": "code",
      "execution_count": null,
      "metadata": {
        "colab": {
          "base_uri": "https://localhost:8080/"
        },
        "id": "Hy9zrlXV7uMS",
        "outputId": "ea8b2463-e7b5-40f0-fef8-db6add91a13a"
      },
      "outputs": [
        {
          "data": {
            "text/plain": [
              "{'product': '**SmartPlant**',\n",
              " 'description': 'Self-watering, app-connected plant pot'}"
            ]
          },
          "execution_count": 98,
          "metadata": {},
          "output_type": "execute_result"
        }
      ],
      "source": [
        "products_and_descriptions[0]"
      ]
    },
    {
      "cell_type": "code",
      "execution_count": null,
      "metadata": {
        "id": "GIu0qZzJ9dPZ"
      },
      "outputs": [],
      "source": [
        "system_prompt = create_prompt(\n",
        "    \"system\",\n",
        "    \"You are a marketing executive. You are proficient at writing short, and snappy marketing emails. The emails should be easy to read, using actionable language. Prioritize clarity, and only then think about 'catchiness'. Never sacrifice clarity for the entertainment value. Leverage FOMO.  Avoid spam trigger words. Establish relevancy. Recipients want emails that are applicable to their lives. If they consider your emails helpful and relevant, they're more likely to engage and less likely to send it to junk or unsubscribe. Priortize benefits over features. Dont write long drafts. Find a way to summarize what the reader will get in a compelling way and let them click through to a page on your website for more information.\"\n",
        ")"
      ]
    },
    {
      "cell_type": "code",
      "execution_count": null,
      "metadata": {
        "id": "pbF9esxS-KK9"
      },
      "outputs": [],
      "source": [
        "def generate_user_prompt(product, description):\n",
        "  user_prompt = create_prompt(\n",
        "      \"user\",\n",
        "      f\"Please create a short marketing email using this product: {product} and this description: {description}\"\n",
        "  )\n",
        "\n",
        "  return user_prompt"
      ]
    },
    {
      "cell_type": "markdown",
      "metadata": {
        "id": "tqi_ax8o-iJ2"
      },
      "source": [
        "Generating our synthetic data by iterating through each item and collating the results into a list of dictionaries."
      ]
    },
    {
      "cell_type": "code",
      "execution_count": null,
      "metadata": {
        "colab": {
          "base_uri": "https://localhost:8080/"
        },
        "id": "fBx7PGNW-raA",
        "outputId": "32977653-109f-49ee-b6ea-b0cde9089a99"
      },
      "outputs": [
        {
          "name": "stdout",
          "output_type": "stream",
          "text": [
            "Working on 0\n",
            "Working on 1\n",
            "Working on 2\n",
            "Working on 3\n",
            "Working on 4\n",
            "Working on 5\n",
            "Working on 6\n",
            "Working on 7\n",
            "Working on 8\n",
            "Working on 9\n"
          ]
        }
      ],
      "source": [
        "from openai import RateLimitError\n",
        "total_token_usage = 0\n",
        "\n",
        "for idx, item in enumerate(products_and_descriptions):\n",
        "  if \"marketing_email\" in item:\n",
        "    continue\n",
        "  print(f\"Working on {idx}\")\n",
        "  user_prompt = generate_user_prompt(item[\"product\"], item[\"description\"])\n",
        "  full_prompt = [system_prompt, user_prompt]\n",
        "  try:\n",
        "    prompt_response = prompt_model(full_prompt)\n",
        "    item[\"marketing_email\"] = prompt_response.choices[0].message.content\n",
        "    total_token_usage += retrieve_token_usage(prompt_response)\n",
        "  except RateLimitError as e:\n",
        "    continue"
      ]
    },
    {
      "cell_type": "code",
      "execution_count": null,
      "metadata": {
        "id": "4gTKNHr1YxpV"
      },
      "outputs": [],
      "source": [
        "products_desc_and_marktng_emails_dataset = [p_d_and_m for p_d_and_m in products_and_descriptions if \"marketing_email\" in p_d_and_m]"
      ]
    },
    {
      "cell_type": "code",
      "execution_count": null,
      "metadata": {
        "colab": {
          "base_uri": "https://localhost:8080/"
        },
        "id": "z8IlJrikSY7a",
        "outputId": "f7e65871-0e2b-4b24-ab0e-4409d7f4a9dd"
      },
      "outputs": [
        {
          "data": {
            "text/plain": [
              "{'product': '**SmartPlant**',\n",
              " 'description': 'Self-watering, app-connected plant pot',\n",
              " 'marketing_email': \"Subject: Never Worry About Watering Your Plants Again!\\n\\nHi [Name],\\n\\nSay goodbye to wilting plants and hello to SmartPlant! 🌱\\n\\nOur self-watering, app-connected plant pot makes plant care effortless. Just set it up, and let SmartPlant take care of the rest.\\n\\n**Why you'll love it:**\\n- **Never Over/Under Water Again**: Your plant gets the perfect amount of water.\\n- **Stay Informed**: Get real-time updates and tips via the app.\\n- **Perfect for Busy Lifestyles**: Save time and keep your plants thriving.\\n\\nReady to transform your plant care routine?\\n\\n[Discover SmartPlant Now!]\\n\\nBest regards,\\n[Your Company Name]\"}"
            ]
          },
          "execution_count": 105,
          "metadata": {},
          "output_type": "execute_result"
        }
      ],
      "source": [
        "products_desc_and_marktng_emails_dataset[0]"
      ]
    },
    {
      "cell_type": "code",
      "execution_count": null,
      "metadata": {
        "id": "3vpRj5XAUWFv"
      },
      "outputs": [],
      "source": [
        "import pandas as pd"
      ]
    },
    {
      "cell_type": "code",
      "execution_count": null,
      "metadata": {
        "id": "32HQlElSUT4a"
      },
      "outputs": [],
      "source": [
        "df=pd.DataFrame(products_desc_and_marktng_emails_dataset)"
      ]
    },
    {
      "cell_type": "code",
      "execution_count": null,
      "metadata": {
        "colab": {
          "base_uri": "https://localhost:8080/",
          "height": 293
        },
        "id": "LIwhP15qUZAk",
        "outputId": "b754b3c6-b2dc-4ee0-e898-3b14665b3169"
      },
      "outputs": [
        {
          "data": {
            "application/vnd.google.colaboratory.intrinsic+json": {
              "summary": "{\n  \"name\": \"df\",\n  \"rows\": 10,\n  \"fields\": [\n    {\n      \"column\": \"product\",\n      \"properties\": {\n        \"dtype\": \"string\",\n        \"num_unique_values\": 10,\n        \"samples\": [\n          \"**ChillSip**\",\n          \"**MoodMask**\",\n          \"**SolarWindow**\"\n        ],\n        \"semantic_type\": \"\",\n        \"description\": \"\"\n      }\n    },\n    {\n      \"column\": \"description\",\n      \"properties\": {\n        \"dtype\": \"string\",\n        \"num_unique_values\": 10,\n        \"samples\": [\n          \"Temperature-controlled smart cup for drinks\",\n          \"Color-changing facemask indicating mood\",\n          \"Energy-harvesting transparent window film\"\n        ],\n        \"semantic_type\": \"\",\n        \"description\": \"\"\n      }\n    },\n    {\n      \"column\": \"marketing_email\",\n      \"properties\": {\n        \"dtype\": \"string\",\n        \"num_unique_values\": 10,\n        \"samples\": [\n          \"**Subject: Say Goodbye to Lukewarm Drinks! \\ud83d\\ude80**\\n\\nHi [Recipient's Name],\\n\\nWhat if your coffee stayed hot till the last sip? Meet **ChillSip** - the temperature-controlled smart cup that keeps your drinks just the way you like them.\\n\\n\\ud83d\\udd25 Why You'll Love It:\\n- **Perfect Temperature**: No more microwave trips or ice refills.\\n- **Smart Control**: Set your ideal drink temperature with ease.\\n- **Portable**: Enjoy your perfect drink at home or on the go.\\n\\nReady to elevate your drink experience? Click below to discover how ChillSip can make every sip perfect!\\n\\n[Discover ChillSip Now]\\n\\nCheers to the perfect temperature,\\n[Your Name]\\n[Your Contact Information]\\n[Company Name]\",\n          \"Subject: Reveal Your Mood with MoodMask! \\ud83d\\ude0d\\ud83d\\ude0e\\ud83d\\ude32\\n\\nHi [Recipient Name],\\n\\nReady to let your mood shine? Introducing MoodMask\\u2014 the face mask that changes color based on your emotions. Whether you're happy, relaxed, or surprised, MoodMask reflects it all!\\n\\nTransform your daily wear into something unique and expressive. Imagine the fun and attention you'll get when your mask reveals your mood. No more mundane masks, only vibrant vibes!\\n\\n\\ud83d\\udc49 Discover the magic of MoodMask now!\\n\\nBest,\\n[Your Name]\\n\\nP.S. Don't miss out on this exciting way to express yourself! Grab yours today before they\\u2019re gone!\",\n          \"Subject: Power Your Home with Invisible Energy!\\n\\nHi [Name],\\n\\nWant to slash your energy bills without lifting a finger? Meet SolarWindow!\\n\\nJust apply our energy-harvesting transparent window film to your existing windows, and watch them transform into mini power plants. It's that simple!\\n\\n\\ud83c\\udf1e Save on energy costs\\n\\ud83c\\udf1e Enjoy eco-friendly power\\n\\ud83c\\udf1e Seamless fit for any window\\n\\nDon't miss out on this game-changing technology. Click here to see how SolarWindow can brighten your life!\\n\\nBest,\\n[Your Name]  \\n[Your Company]\"\n        ],\n        \"semantic_type\": \"\",\n        \"description\": \"\"\n      }\n    }\n  ]\n}",
              "type": "dataframe",
              "variable_name": "df"
            },
            "text/html": [
              "\n",
              "  <div id=\"df-f69da5e7-f589-41eb-ba32-b0d93ba5566a\" class=\"colab-df-container\">\n",
              "    <div>\n",
              "<style scoped>\n",
              "    .dataframe tbody tr th:only-of-type {\n",
              "        vertical-align: middle;\n",
              "    }\n",
              "\n",
              "    .dataframe tbody tr th {\n",
              "        vertical-align: top;\n",
              "    }\n",
              "\n",
              "    .dataframe thead th {\n",
              "        text-align: right;\n",
              "    }\n",
              "</style>\n",
              "<table border=\"1\" class=\"dataframe\">\n",
              "  <thead>\n",
              "    <tr style=\"text-align: right;\">\n",
              "      <th></th>\n",
              "      <th>product</th>\n",
              "      <th>description</th>\n",
              "      <th>marketing_email</th>\n",
              "    </tr>\n",
              "  </thead>\n",
              "  <tbody>\n",
              "    <tr>\n",
              "      <th>0</th>\n",
              "      <td>**SmartPlant**</td>\n",
              "      <td>Self-watering, app-connected plant pot</td>\n",
              "      <td>Subject: Never Worry About Watering Your Plant...</td>\n",
              "    </tr>\n",
              "    <tr>\n",
              "      <th>1</th>\n",
              "      <td>**MoodMask**</td>\n",
              "      <td>Color-changing facemask indicating mood</td>\n",
              "      <td>Subject: Reveal Your Mood with MoodMask! 😍😎😲\\n...</td>\n",
              "    </tr>\n",
              "    <tr>\n",
              "      <th>2</th>\n",
              "      <td>**EchoPen**</td>\n",
              "      <td>Voice-recording and transcribing pen</td>\n",
              "      <td>**Subject: Transform Your Notes with EchoPen! ...</td>\n",
              "    </tr>\n",
              "    <tr>\n",
              "      <th>3</th>\n",
              "      <td>**FitSnack**</td>\n",
              "      <td>Health bars customized to your DNA</td>\n",
              "      <td>**Subject: Unlock Your Health Potential with F...</td>\n",
              "    </tr>\n",
              "    <tr>\n",
              "      <th>4</th>\n",
              "      <td>**AuraShower**</td>\n",
              "      <td>Mood-lighting and aromatherapy shower head</td>\n",
              "      <td>Subject: Transform Your Daily Routine with Aur...</td>\n",
              "    </tr>\n",
              "  </tbody>\n",
              "</table>\n",
              "</div>\n",
              "    <div class=\"colab-df-buttons\">\n",
              "\n",
              "  <div class=\"colab-df-container\">\n",
              "    <button class=\"colab-df-convert\" onclick=\"convertToInteractive('df-f69da5e7-f589-41eb-ba32-b0d93ba5566a')\"\n",
              "            title=\"Convert this dataframe to an interactive table.\"\n",
              "            style=\"display:none;\">\n",
              "\n",
              "  <svg xmlns=\"http://www.w3.org/2000/svg\" height=\"24px\" viewBox=\"0 -960 960 960\">\n",
              "    <path d=\"M120-120v-720h720v720H120Zm60-500h600v-160H180v160Zm220 220h160v-160H400v160Zm0 220h160v-160H400v160ZM180-400h160v-160H180v160Zm440 0h160v-160H620v160ZM180-180h160v-160H180v160Zm440 0h160v-160H620v160Z\"/>\n",
              "  </svg>\n",
              "    </button>\n",
              "\n",
              "  <style>\n",
              "    .colab-df-container {\n",
              "      display:flex;\n",
              "      gap: 12px;\n",
              "    }\n",
              "\n",
              "    .colab-df-convert {\n",
              "      background-color: #E8F0FE;\n",
              "      border: none;\n",
              "      border-radius: 50%;\n",
              "      cursor: pointer;\n",
              "      display: none;\n",
              "      fill: #1967D2;\n",
              "      height: 32px;\n",
              "      padding: 0 0 0 0;\n",
              "      width: 32px;\n",
              "    }\n",
              "\n",
              "    .colab-df-convert:hover {\n",
              "      background-color: #E2EBFA;\n",
              "      box-shadow: 0px 1px 2px rgba(60, 64, 67, 0.3), 0px 1px 3px 1px rgba(60, 64, 67, 0.15);\n",
              "      fill: #174EA6;\n",
              "    }\n",
              "\n",
              "    .colab-df-buttons div {\n",
              "      margin-bottom: 4px;\n",
              "    }\n",
              "\n",
              "    [theme=dark] .colab-df-convert {\n",
              "      background-color: #3B4455;\n",
              "      fill: #D2E3FC;\n",
              "    }\n",
              "\n",
              "    [theme=dark] .colab-df-convert:hover {\n",
              "      background-color: #434B5C;\n",
              "      box-shadow: 0px 1px 3px 1px rgba(0, 0, 0, 0.15);\n",
              "      filter: drop-shadow(0px 1px 2px rgba(0, 0, 0, 0.3));\n",
              "      fill: #FFFFFF;\n",
              "    }\n",
              "  </style>\n",
              "\n",
              "    <script>\n",
              "      const buttonEl =\n",
              "        document.querySelector('#df-f69da5e7-f589-41eb-ba32-b0d93ba5566a button.colab-df-convert');\n",
              "      buttonEl.style.display =\n",
              "        google.colab.kernel.accessAllowed ? 'block' : 'none';\n",
              "\n",
              "      async function convertToInteractive(key) {\n",
              "        const element = document.querySelector('#df-f69da5e7-f589-41eb-ba32-b0d93ba5566a');\n",
              "        const dataTable =\n",
              "          await google.colab.kernel.invokeFunction('convertToInteractive',\n",
              "                                                    [key], {});\n",
              "        if (!dataTable) return;\n",
              "\n",
              "        const docLinkHtml = 'Like what you see? Visit the ' +\n",
              "          '<a target=\"_blank\" href=https://colab.research.google.com/notebooks/data_table.ipynb>data table notebook</a>'\n",
              "          + ' to learn more about interactive tables.';\n",
              "        element.innerHTML = '';\n",
              "        dataTable['output_type'] = 'display_data';\n",
              "        await google.colab.output.renderOutput(dataTable, element);\n",
              "        const docLink = document.createElement('div');\n",
              "        docLink.innerHTML = docLinkHtml;\n",
              "        element.appendChild(docLink);\n",
              "      }\n",
              "    </script>\n",
              "  </div>\n",
              "\n",
              "\n",
              "<div id=\"df-5e99ee53-7d6c-43ef-84cd-050d9fa7d1fc\">\n",
              "  <button class=\"colab-df-quickchart\" onclick=\"quickchart('df-5e99ee53-7d6c-43ef-84cd-050d9fa7d1fc')\"\n",
              "            title=\"Suggest charts\"\n",
              "            style=\"display:none;\">\n",
              "\n",
              "<svg xmlns=\"http://www.w3.org/2000/svg\" height=\"24px\"viewBox=\"0 0 24 24\"\n",
              "     width=\"24px\">\n",
              "    <g>\n",
              "        <path d=\"M19 3H5c-1.1 0-2 .9-2 2v14c0 1.1.9 2 2 2h14c1.1 0 2-.9 2-2V5c0-1.1-.9-2-2-2zM9 17H7v-7h2v7zm4 0h-2V7h2v10zm4 0h-2v-4h2v4z\"/>\n",
              "    </g>\n",
              "</svg>\n",
              "  </button>\n",
              "\n",
              "<style>\n",
              "  .colab-df-quickchart {\n",
              "      --bg-color: #E8F0FE;\n",
              "      --fill-color: #1967D2;\n",
              "      --hover-bg-color: #E2EBFA;\n",
              "      --hover-fill-color: #174EA6;\n",
              "      --disabled-fill-color: #AAA;\n",
              "      --disabled-bg-color: #DDD;\n",
              "  }\n",
              "\n",
              "  [theme=dark] .colab-df-quickchart {\n",
              "      --bg-color: #3B4455;\n",
              "      --fill-color: #D2E3FC;\n",
              "      --hover-bg-color: #434B5C;\n",
              "      --hover-fill-color: #FFFFFF;\n",
              "      --disabled-bg-color: #3B4455;\n",
              "      --disabled-fill-color: #666;\n",
              "  }\n",
              "\n",
              "  .colab-df-quickchart {\n",
              "    background-color: var(--bg-color);\n",
              "    border: none;\n",
              "    border-radius: 50%;\n",
              "    cursor: pointer;\n",
              "    display: none;\n",
              "    fill: var(--fill-color);\n",
              "    height: 32px;\n",
              "    padding: 0;\n",
              "    width: 32px;\n",
              "  }\n",
              "\n",
              "  .colab-df-quickchart:hover {\n",
              "    background-color: var(--hover-bg-color);\n",
              "    box-shadow: 0 1px 2px rgba(60, 64, 67, 0.3), 0 1px 3px 1px rgba(60, 64, 67, 0.15);\n",
              "    fill: var(--button-hover-fill-color);\n",
              "  }\n",
              "\n",
              "  .colab-df-quickchart-complete:disabled,\n",
              "  .colab-df-quickchart-complete:disabled:hover {\n",
              "    background-color: var(--disabled-bg-color);\n",
              "    fill: var(--disabled-fill-color);\n",
              "    box-shadow: none;\n",
              "  }\n",
              "\n",
              "  .colab-df-spinner {\n",
              "    border: 2px solid var(--fill-color);\n",
              "    border-color: transparent;\n",
              "    border-bottom-color: var(--fill-color);\n",
              "    animation:\n",
              "      spin 1s steps(1) infinite;\n",
              "  }\n",
              "\n",
              "  @keyframes spin {\n",
              "    0% {\n",
              "      border-color: transparent;\n",
              "      border-bottom-color: var(--fill-color);\n",
              "      border-left-color: var(--fill-color);\n",
              "    }\n",
              "    20% {\n",
              "      border-color: transparent;\n",
              "      border-left-color: var(--fill-color);\n",
              "      border-top-color: var(--fill-color);\n",
              "    }\n",
              "    30% {\n",
              "      border-color: transparent;\n",
              "      border-left-color: var(--fill-color);\n",
              "      border-top-color: var(--fill-color);\n",
              "      border-right-color: var(--fill-color);\n",
              "    }\n",
              "    40% {\n",
              "      border-color: transparent;\n",
              "      border-right-color: var(--fill-color);\n",
              "      border-top-color: var(--fill-color);\n",
              "    }\n",
              "    60% {\n",
              "      border-color: transparent;\n",
              "      border-right-color: var(--fill-color);\n",
              "    }\n",
              "    80% {\n",
              "      border-color: transparent;\n",
              "      border-right-color: var(--fill-color);\n",
              "      border-bottom-color: var(--fill-color);\n",
              "    }\n",
              "    90% {\n",
              "      border-color: transparent;\n",
              "      border-bottom-color: var(--fill-color);\n",
              "    }\n",
              "  }\n",
              "</style>\n",
              "\n",
              "  <script>\n",
              "    async function quickchart(key) {\n",
              "      const quickchartButtonEl =\n",
              "        document.querySelector('#' + key + ' button');\n",
              "      quickchartButtonEl.disabled = true;  // To prevent multiple clicks.\n",
              "      quickchartButtonEl.classList.add('colab-df-spinner');\n",
              "      try {\n",
              "        const charts = await google.colab.kernel.invokeFunction(\n",
              "            'suggestCharts', [key], {});\n",
              "      } catch (error) {\n",
              "        console.error('Error during call to suggestCharts:', error);\n",
              "      }\n",
              "      quickchartButtonEl.classList.remove('colab-df-spinner');\n",
              "      quickchartButtonEl.classList.add('colab-df-quickchart-complete');\n",
              "    }\n",
              "    (() => {\n",
              "      let quickchartButtonEl =\n",
              "        document.querySelector('#df-5e99ee53-7d6c-43ef-84cd-050d9fa7d1fc button');\n",
              "      quickchartButtonEl.style.display =\n",
              "        google.colab.kernel.accessAllowed ? 'block' : 'none';\n",
              "    })();\n",
              "  </script>\n",
              "</div>\n",
              "\n",
              "    </div>\n",
              "  </div>\n"
            ],
            "text/plain": [
              "          product                                 description  \\\n",
              "0  **SmartPlant**      Self-watering, app-connected plant pot   \n",
              "1    **MoodMask**     Color-changing facemask indicating mood   \n",
              "2     **EchoPen**        Voice-recording and transcribing pen   \n",
              "3    **FitSnack**          Health bars customized to your DNA   \n",
              "4  **AuraShower**  Mood-lighting and aromatherapy shower head   \n",
              "\n",
              "                                     marketing_email  \n",
              "0  Subject: Never Worry About Watering Your Plant...  \n",
              "1  Subject: Reveal Your Mood with MoodMask! 😍😎😲\\n...  \n",
              "2  **Subject: Transform Your Notes with EchoPen! ...  \n",
              "3  **Subject: Unlock Your Health Potential with F...  \n",
              "4  Subject: Transform Your Daily Routine with Aur...  "
            ]
          },
          "execution_count": 108,
          "metadata": {},
          "output_type": "execute_result"
        }
      ],
      "source": [
        "df.head()"
      ]
    },
    {
      "cell_type": "code",
      "execution_count": null,
      "metadata": {
        "id": "M6eKzBk0Uw4n"
      },
      "outputs": [],
      "source": [
        "df.to_csv('marketData.csv',index=False)"
      ]
    },
    {
      "cell_type": "code",
      "execution_count": null,
      "metadata": {
        "id": "1DWlBu4MWFl1"
      },
      "outputs": [],
      "source": [
        "import json\n",
        "\n",
        "\n",
        "json_data = json.dumps(products_desc_and_marktng_emails_dataset, indent=4)\n",
        "\n",
        "with open('marketData.json', 'w') as json_file:\n",
        "    json_file.write(json_data)"
      ]
    }
  ],
  "metadata": {
    "colab": {
      "provenance": []
    },
    "kernelspec": {
      "display_name": "open_ai",
      "language": "python",
      "name": "python3"
    },
    "language_info": {
      "codemirror_mode": {
        "name": "ipython",
        "version": 3
      },
      "file_extension": ".py",
      "mimetype": "text/x-python",
      "name": "python",
      "nbconvert_exporter": "python",
      "pygments_lexer": "ipython3",
      "version": "3.10.10"
    },
    "orig_nbformat": 4
  },
  "nbformat": 4,
  "nbformat_minor": 0
}
